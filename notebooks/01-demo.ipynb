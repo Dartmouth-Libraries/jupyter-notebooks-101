{
 "cells": [
  {
   "cell_type": "markdown",
   "metadata": {},
   "source": [
    "# Jupyter Notebooks 101\n"
   ]
  },
  {
   "cell_type": "markdown",
   "metadata": {},
   "source": [
    "## Markdown\n",
    "\n",
    "This is a markdown cell. You can write formatted text here using special characters!\n",
    "\n",
    "_Double-click a cell to see how!_\n",
    "\n",
    "Many markdown commands are supported by Jupyter Notebooks. Check out [this cheat sheet](https://jupyterbook.org/en/stable/reference/cheatsheet.html) for lots of examples!\n"
   ]
  },
  {
   "cell_type": "markdown",
   "metadata": {},
   "source": [
    "### Basic formatting\n",
    "\n",
    "You can make text **bold** or _italic_. You can also create lists:\n",
    "\n",
    "- An item\n",
    "- Another item\n",
    "  - A sublist\n",
    "    - A subsublist\n",
    "- Yet another item\n",
    "\n",
    "Lists can also be numbered:\n",
    "\n",
    "1. First item\n",
    "2. Second item\n",
    "   1. First subitem\n",
    "   2. Second subitem\n",
    "3. Third item.\n",
    "\n",
    "You do not have a lot of options _how_ the lists are formatted when using markdown. You can, however, use HTML when you need more fine-grained control (see [below](#html)!)\n",
    "\n",
    "You can also add a horizontal rule to break up the text!\n",
    "\n",
    "---\n",
    "\n",
    "Use a blockquote to set a section of text apart:\n",
    "\n",
    "> It is a small college, and yet there are those who love it!\n",
    "\n",
    "Links should be parsed automatically: https://www.library.dartmouth.edu/research-data-services\n",
    "\n",
    "If you want a link with a custom label: [A markdown cheat sheet!](https://jupyterbook.org/en/stable/reference/cheatsheet.html)\n"
   ]
  },
  {
   "cell_type": "markdown",
   "metadata": {},
   "source": [
    "### Headings\n",
    "\n",
    "Headings are denoted by the `#` symbol followed by a space. Each `#` adds a level:\n",
    "\n",
    "```\n",
    "# Heading 1\n",
    "# Heading 2\n",
    "## Heading 2.1\n",
    "### Heading 2.1.1\n",
    "# Heading 3\n",
    "```\n"
   ]
  },
  {
   "cell_type": "markdown",
   "metadata": {},
   "source": [
    "### Embedded code\n",
    "\n",
    "You can format a section of text to look like code, including some syntax highlighting:\n",
    "\n",
    "For example, some Python code:\n",
    "\n",
    "```python\n",
    "def f(x):\n",
    "    \"\"\"a docstring\"\"\"\n",
    "    return x**2\n",
    "```\n",
    "\n",
    "Or some C++ code:\n",
    "\n",
    "```cpp\n",
    "for (i=0; i<n; i++) {\n",
    "  std::out << \"Hello world!\" << std::endl;\n",
    "}\n",
    "```\n",
    "\n",
    "(Note that these code snippets are not executable, they are just formatted to look like code!)\n"
   ]
  },
  {
   "cell_type": "markdown",
   "metadata": {},
   "source": [
    "### LaTeX equations\n",
    "\n",
    "You can even include mathematical equations by using a subset of LaTeX commands:\n",
    "\n",
    "$$\n",
    "\\nabla \\cdot \\vec{\\mathbf{B}}  = 0\n",
    "$$\n",
    "\n",
    "$$\n",
    "\\nabla \\times \\vec{\\mathbf{E}}\\, +\\, \\frac1c\\, \\frac{\\partial\\vec{\\mathbf{B}}}{\\partial t}  = \\vec{\\mathbf{0}}\n",
    "$$\n"
   ]
  },
  {
   "cell_type": "markdown",
   "metadata": {},
   "source": [
    "### Tables\n",
    "\n",
    "You can also create some nice tables:\n",
    "\n",
    "| A column header | Another column header |\n",
    "| --------------- | --------------------- |\n",
    "| cell 1          | cell 2                |\n",
    "\n",
    "For more control over the table design, refer to the [HTML section](#html)!\n"
   ]
  },
  {
   "cell_type": "markdown",
   "metadata": {},
   "source": [
    "### HTML\n",
    "\n",
    "Whenever Markdown does not offer you enough customization, you can use bits of HTML.\n",
    "\n",
    "<div class=\"alert alert-block alert-info\">\n",
    "<b>Tip:</b> You can use a box like this (alert-info) to draw attention to something!\n",
    "</div>\n",
    "\n",
    "<div class=\"alert alert-block alert-danger\">\n",
    "<b>Danger!</b> And if you want to be dramatic, you could even use one like this.\n",
    "</div>\n",
    "\n",
    "You can also use HTML to render a table and use in-line CSS to customize it:\n",
    "\n",
    "<table>\n",
    "    <tr>\n",
    "        <th style='text-align: left;'>Header 1</th>\n",
    "        <th >Header 2</th>\n",
    "    </tr>\n",
    "    <tr>\n",
    "        <td>Item 1.1</td>\n",
    "        <td style='text-align: right; color:red;'>Item 1.2</td>\n",
    "    </tr>\n",
    "    <tr>\n",
    "        <td style=\"color:green;\">Item 2.1</td>\n",
    "        <td style='text-align: right;'>Item 2.2</td>\n",
    "    </tr>\n",
    "</table>\n",
    "\n",
    "Many more HTML features are supported, but they may be rendered differently depending on the tool you use to run the Jupyter Notebok (Google Colab, JupyterHub, VS Code, ...). It is usually a good idea to stick to the basics. When in doubt, try it out!\n"
   ]
  },
  {
   "cell_type": "markdown",
   "metadata": {},
   "source": [
    "### Images\n",
    "\n",
    "#### Markdown\n",
    "\n",
    "You can include image files using Markdown:\n",
    "\n",
    "![Dartmouth Library Logo](../img/dartmouth-library-logo.png)\n",
    "\n",
    "You can also display images directly from the web using a URL:\n",
    "\n",
    "![Dartmouth Logo](https://upload.wikimedia.org/wikipedia/en/e/e4/Dartmouth_College_shield.svg)\n",
    "\n",
    "#### HTML\n",
    "\n",
    "You can also use HTML to include images from the disk or the web, which gives you more control over how the image is displayed\n",
    "\n",
    "<p><img src=\"https://upload.wikimedia.org/wikipedia/en/e/e4/Dartmouth_College_shield.svg\" alt=\"Dartmouth College shield.svg\" height=\"80\">\n",
    "</p>\n",
    "\n",
    "<div class=\"alert alert-block alert-info\">\n",
    "Images are not embedded in the notebook! If the referenced file does not exist in that location, the image will not be displayed!\n",
    "</div>\n"
   ]
  },
  {
   "cell_type": "markdown",
   "metadata": {},
   "source": [
    "## Code cells\n",
    "\n",
    "The main reason to use a Jupyter Notebook is to interactively write and execute code. This is done in code cells.\n",
    "Code cells are executed by the currently selected kernel. So if you are using an IPython kernel, the code has to be written in Python.\n",
    "\n",
    "You can run a code cell in several differenty ways:\n",
    "\n",
    "- Clicking a button in whichever tool you are using to run the Notebook (usually a Play symbol: ▶️)\n",
    "- Using `Shift-Return` to run the current cell and select the next cell\n",
    "- Using `Ctrl-Return` to run the current cell and keep the focus on it\n",
    "- Using `Alt-Return` or `Option-Return` to run the current cell and insert a new empty cell after it\n"
   ]
  },
  {
   "cell_type": "code",
   "execution_count": null,
   "metadata": {},
   "outputs": [],
   "source": [
    "print(\"Hello world!\")"
   ]
  },
  {
   "cell_type": "markdown",
   "metadata": {},
   "source": [
    "In every code cell, the last line of code is printed by default:\n"
   ]
  },
  {
   "cell_type": "code",
   "execution_count": null,
   "metadata": {},
   "outputs": [],
   "source": [
    "\"Hello world!\""
   ]
  },
  {
   "cell_type": "markdown",
   "metadata": {},
   "source": [
    "If the last line is an assignment, it does not get printed:\n"
   ]
  },
  {
   "cell_type": "code",
   "execution_count": null,
   "metadata": {},
   "outputs": [],
   "source": [
    "greeting = \"Hello World!\""
   ]
  },
  {
   "cell_type": "markdown",
   "metadata": {},
   "source": [
    "The kernel can only process one cell at a time. If you want to interrupt a long-running cell, you can interrupt the kernel by clicking a button (usually looking like a Stop button ⏹️):\n"
   ]
  },
  {
   "cell_type": "code",
   "execution_count": null,
   "metadata": {},
   "outputs": [],
   "source": [
    "import time\n",
    "\n",
    "time.sleep(20)"
   ]
  },
  {
   "cell_type": "markdown",
   "metadata": {},
   "source": [
    "Sometimes it may become necessary to start the notebook fresh from the top, discarding all currently defined variables and calculated results. In this case, you need to restart the kernel.\n",
    "\n",
    "You can restart the kernel by clicking the corresponding button, usually looking like Refresh arrow ↩️.\n"
   ]
  },
  {
   "cell_type": "markdown",
   "metadata": {},
   "source": [
    "## Producing figures\n",
    "\n",
    "If your code produces figures (e.g., using `seaborn` or `matplotlib` in Python), some tools (e.g. VS Code or Google Colab) will let you save the created figure to a file using corresponding buttons or a right-click menu.\n",
    "\n",
    "If the tool you are using does not offer that, you can usually use code to save the figure to a file.\n",
    "\n",
    "Here is an example using `matplotlib` and `seaborn`:\n"
   ]
  },
  {
   "cell_type": "code",
   "execution_count": null,
   "metadata": {},
   "outputs": [],
   "source": [
    "import matplotlib.pyplot as plt\n",
    "import seaborn as sns\n",
    "\n",
    "df = sns.load_dataset(\"penguins\")\n",
    "sns.barplot(data=df, x=\"species\", y=\"body_mass_g\")\n",
    "\n",
    "plt.savefig(\"my_figure.pdf\")"
   ]
  },
  {
   "cell_type": "markdown",
   "metadata": {},
   "source": [
    "## Magic commands\n",
    "\n",
    "A kernel can define some special commands that go beyond the programming language it supports. What these commands do and even their syntax depends entirely on the kernel.\n",
    "\n",
    "To give you an idea what these magic commands can do, we will be using some examples from the IPython kernel. You can find the full list [here](https://ipython.readthedocs.io/en/stable/interactive/magics.html).\n",
    "\n",
    "Magic commands need to be placed into a code cell. In the IPython kernel, most magic commands start with one or two `%`.\n"
   ]
  },
  {
   "cell_type": "markdown",
   "metadata": {},
   "source": [
    "As you execute code cells, many variables get defined. If you want to see a list of all currently defined objects, you can use the `%who` magic:\n"
   ]
  },
  {
   "cell_type": "code",
   "execution_count": null,
   "metadata": {},
   "outputs": [],
   "source": [
    "%who"
   ]
  },
  {
   "cell_type": "markdown",
   "metadata": {},
   "source": [
    "If you want to know more about an object, you can use `?` before or after the object's name:\n"
   ]
  },
  {
   "cell_type": "code",
   "execution_count": null,
   "metadata": {},
   "outputs": [],
   "source": [
    "?plt"
   ]
  },
  {
   "cell_type": "markdown",
   "metadata": {},
   "source": [
    "Sometimes it can be interesting to measure the execution time of a piece of code. You can use `%timeit` magic command to easily do so:\n"
   ]
  },
  {
   "cell_type": "code",
   "execution_count": null,
   "metadata": {},
   "outputs": [],
   "source": [
    "import math\n",
    "\n",
    "%timeit math.sqrt(1769)"
   ]
  },
  {
   "cell_type": "markdown",
   "metadata": {},
   "source": [
    "If you need a more detailed profile of your code, i.e., how long the execution of each call within a function took, you can use the magic command `%prun`:\n"
   ]
  },
  {
   "cell_type": "code",
   "execution_count": null,
   "metadata": {},
   "outputs": [],
   "source": [
    "import time\n",
    "\n",
    "def my_inner_function():\n",
    "    time.sleep(1)\n",
    "\n",
    "def my_complicated_function():\n",
    "    time.sleep(2)\n",
    "    my_inner_function()\n",
    "    \n",
    "    \n",
    "%prun my_complicated_function()"
   ]
  },
  {
   "cell_type": "markdown",
   "metadata": {},
   "source": [
    "You can get a history of the code you executed using the `%history` magic command:\n"
   ]
  },
  {
   "cell_type": "code",
   "execution_count": null,
   "metadata": {},
   "outputs": [],
   "source": [
    "%history"
   ]
  },
  {
   "cell_type": "markdown",
   "metadata": {},
   "source": [
    "You can write the contents of a cell to a file using the `%%writefile` magic command:\n"
   ]
  },
  {
   "cell_type": "code",
   "execution_count": null,
   "metadata": {},
   "outputs": [],
   "source": [
    "%%writefile my_file.py\n",
    "print(\"Hello World from my file!\")"
   ]
  },
  {
   "cell_type": "markdown",
   "metadata": {},
   "source": [
    "You can run files using the `%run` magic. Anything the file would print to the terminal gets rerouted to the notebook output:\n"
   ]
  },
  {
   "cell_type": "code",
   "execution_count": null,
   "metadata": {},
   "outputs": [],
   "source": [
    "%run my_file.py"
   ]
  },
  {
   "cell_type": "markdown",
   "metadata": {},
   "source": [
    "Finally, you can get a list of all the magic commands using `%quickref`:\n"
   ]
  },
  {
   "cell_type": "code",
   "execution_count": null,
   "metadata": {},
   "outputs": [],
   "source": [
    "%quickref"
   ]
  },
  {
   "cell_type": "markdown",
   "metadata": {},
   "source": [
    "<table >\n",
    "<tbody>\n",
    "  <tr>\n",
    "    <td style=\"padding:0px;border-width:0px;vertical-align:center\">    \n",
    "    Created by Simon Stone for Dartmouth College Library under <a href=\"https://creativecommons.org/licenses/by/4.0/\">Creative Commons CC BY-NC 4.0 License</a>.<br>For questions, comments, or improvements, email <a href=\"mailto:researchdatahelp@groups.dartmouth.edu\">Research Data Services</a>.\n",
    "    </td>\n",
    "    <td style=\"padding:0 0 0 1em;border-width:0px;vertical-align:center\"><img alt=\"Creative Commons License\" src=\"https://i.creativecommons.org/l/by/4.0/88x31.png\"/></td>\n",
    "  </tr>\n",
    "</tbody>\n",
    "</table>\n"
   ]
  }
 ],
 "metadata": {
  "kernelspec": {
   "display_name": "Python 3",
   "language": "python",
   "name": "python3"
  },
  "language_info": {
   "codemirror_mode": {
    "name": "ipython",
    "version": 3
   },
   "file_extension": ".py",
   "mimetype": "text/x-python",
   "name": "python",
   "nbconvert_exporter": "python",
   "pygments_lexer": "ipython3",
   "version": "3.11.4"
  },
  "orig_nbformat": 4
 },
 "nbformat": 4,
 "nbformat_minor": 2
}
